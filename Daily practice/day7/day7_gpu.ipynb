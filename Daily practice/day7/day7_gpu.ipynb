{
  "nbformat": 4,
  "nbformat_minor": 0,
  "metadata": {
    "colab": {
      "name": "day7.ipynb",
      "version": "0.3.2",
      "provenance": [],
      "collapsed_sections": []
    },
    "kernelspec": {
      "name": "python3",
      "display_name": "Python 3"
    },
    "accelerator": "GPU"
  },
  "cells": [
    {
      "metadata": {
        "id": "AZInjvGtIsj5",
        "colab_type": "code",
        "colab": {}
      },
      "cell_type": "code",
      "source": [
        "# http://pytorch.org/\n",
        "from os.path import exists\n",
        "from wheel.pep425tags import get_abbr_impl, get_impl_ver, get_abi_tag\n",
        "platform = '{}{}-{}'.format(get_abbr_impl(), get_impl_ver(), get_abi_tag())\n",
        "cuda_output = !ldconfig -p|grep cudart.so|sed -e 's/.*\\.\\([0-9]*\\)\\.\\([0-9]*\\)$/cu\\1\\2/'\n",
        "accelerator = cuda_output[0] if exists('/dev/nvidia0') else 'cpu'\n",
        "\n",
        "!pip install -q http://download.pytorch.org/whl/{accelerator}/torch-0.4.1-{platform}-linux_x86_64.whl torchvision\n",
        "import torch"
      ],
      "execution_count": 0,
      "outputs": []
    },
    {
      "metadata": {
        "id": "zCTIe-W6GupC",
        "colab_type": "code",
        "colab": {}
      },
      "cell_type": "code",
      "source": [
        "import torch\n",
        "import torch.nn as nn\n",
        "from torch.autograd import Variable\n",
        "import torch.utils.data as Data\n",
        "import torchvision\n",
        "import matplotlib.pyplot as plt"
      ],
      "execution_count": 0,
      "outputs": []
    },
    {
      "metadata": {
        "id": "4PioOdsIGupH",
        "colab_type": "code",
        "colab": {
          "base_uri": "https://localhost:8080/",
          "height": 52
        },
        "outputId": "8e87f005-7a90-4948-cd04-6e9b593be214"
      },
      "cell_type": "code",
      "source": [
        "print(torch.__version__)\n",
        "print(torch.cuda.is_available())"
      ],
      "execution_count": 14,
      "outputs": [
        {
          "output_type": "stream",
          "text": [
            "0.4.1\n",
            "True\n"
          ],
          "name": "stdout"
        }
      ]
    },
    {
      "metadata": {
        "id": "ELE0wDBaGupN",
        "colab_type": "code",
        "colab": {}
      },
      "cell_type": "code",
      "source": [
        "EPOCH = 5\n",
        "BATCH_SIZE = 50\n",
        "LR = 0.001\n",
        "DOWNLOAD_MNIST = True"
      ],
      "execution_count": 0,
      "outputs": []
    },
    {
      "metadata": {
        "id": "cp9src82GupQ",
        "colab_type": "code",
        "colab": {}
      },
      "cell_type": "code",
      "source": [
        "train_data = torchvision.datasets.MNIST(\n",
        "    root = './mnist',\n",
        "    train = True,\n",
        "    transform=torchvision.transforms.ToTensor(), #改成torch可讀\n",
        "    download=DOWNLOAD_MNIST,\n",
        ")"
      ],
      "execution_count": 0,
      "outputs": []
    },
    {
      "metadata": {
        "id": "7E06VX2OGupU",
        "colab_type": "code",
        "colab": {}
      },
      "cell_type": "code",
      "source": [
        "train_loader = Data.DataLoader(dataset=train_data, batch_size=BATCH_SIZE, shuffle=True)\n",
        "\n",
        "test_data = torchvision.datasets.MNIST(root='./mnist/', train=False)\n",
        "test_x = Variable(torch.unsqueeze(test_data.test_data, dim=1)).type(torch.FloatTensor)[:2000].cuda()/255.   # shape from (2000, 28, 28) to (2000, 1, 28, 28), value in range(0,1)\n",
        "test_y = test_data.test_labels[:2000].cuda()"
      ],
      "execution_count": 0,
      "outputs": []
    },
    {
      "metadata": {
        "id": "oE37QqdbGupY",
        "colab_type": "code",
        "colab": {}
      },
      "cell_type": "code",
      "source": [
        "class CNN(nn.Module):\n",
        "    def __init__(self):\n",
        "        super(CNN, self).__init__()\n",
        "        self.conv1 = nn.Sequential(         # input shape (1, 28, 28)\n",
        "            nn.Conv2d(\n",
        "                in_channels=1,              # input height\n",
        "                out_channels=16,            # n_filters\n",
        "                kernel_size=5,              # filter size\n",
        "                stride=1,                   # filter movement/step\n",
        "                padding=2,                  # if want same width and length of this image after con2d, padding=(kernel_size-1)/2 if stride=1\n",
        "            ),                              # output shape (16, 28, 28)\n",
        "            nn.ReLU(),                      # activation\n",
        "            nn.MaxPool2d(kernel_size=2),    # choose max value in 2x2 area, output shape (16, 14, 14)\n",
        "        )\n",
        "        self.conv2 = nn.Sequential(         # input shape (1, 28, 28)\n",
        "            nn.Conv2d(16, 32, 5, 1, 2),     # output shape (32, 14, 14)\n",
        "            nn.ReLU(),                      # activation\n",
        "            nn.MaxPool2d(2),                # output shape (32, 7, 7)\n",
        "        )\n",
        "        self.out = nn.Linear(32 * 7 * 7, 10)   # fully connected layer, output 10 classes\n",
        "\n",
        "    def forward(self, x):\n",
        "        x = self.conv1(x)\n",
        "        x = self.conv2(x)\n",
        "        x = x.view(x.size(0), -1)           # flatten the output of conv2 to (batch_size, 32 * 7 * 7)\n",
        "        output = self.out(x)\n",
        "        return output, x    # return x for visualization"
      ],
      "execution_count": 0,
      "outputs": []
    },
    {
      "metadata": {
        "id": "n3ybto71Gupb",
        "colab_type": "code",
        "colab": {
          "base_uri": "https://localhost:8080/",
          "height": 266
        },
        "outputId": "3ec4a51f-8650-46ce-b690-31a73926c4ad"
      },
      "cell_type": "code",
      "source": [
        "cnn = CNN()\n",
        "cnn.cuda()\n",
        "print(cnn)"
      ],
      "execution_count": 19,
      "outputs": [
        {
          "output_type": "stream",
          "text": [
            "CNN(\n",
            "  (conv1): Sequential(\n",
            "    (0): Conv2d(1, 16, kernel_size=(5, 5), stride=(1, 1), padding=(2, 2))\n",
            "    (1): ReLU()\n",
            "    (2): MaxPool2d(kernel_size=2, stride=2, padding=0, dilation=1, ceil_mode=False)\n",
            "  )\n",
            "  (conv2): Sequential(\n",
            "    (0): Conv2d(16, 32, kernel_size=(5, 5), stride=(1, 1), padding=(2, 2))\n",
            "    (1): ReLU()\n",
            "    (2): MaxPool2d(kernel_size=2, stride=2, padding=0, dilation=1, ceil_mode=False)\n",
            "  )\n",
            "  (out): Linear(in_features=1568, out_features=10, bias=True)\n",
            ")\n"
          ],
          "name": "stdout"
        }
      ]
    },
    {
      "metadata": {
        "id": "v6Vita_XGupf",
        "colab_type": "code",
        "colab": {}
      },
      "cell_type": "code",
      "source": [
        "optimizer = torch.optim.Adam(cnn.parameters(), lr=LR)   # optimize all cnn parameters\n",
        "loss_func = nn.CrossEntropyLoss()                       # the target label is not one-hotted"
      ],
      "execution_count": 0,
      "outputs": []
    },
    {
      "metadata": {
        "id": "08QQjzBXGupj",
        "colab_type": "code",
        "colab": {
          "base_uri": "https://localhost:8080/",
          "height": 1090
        },
        "outputId": "2ae5e04e-b6c7-479d-bca1-8aa0f2eb6503"
      },
      "cell_type": "code",
      "source": [
        "for epoch in range(EPOCH):\n",
        "    for step, (x, y) in enumerate(train_loader):   # gives batch data, normalize x when iterate train_loader\n",
        "        b_x = Variable(x).cuda()   # batch x\n",
        "        b_y = Variable(y).cuda()   # batch y\n",
        "\n",
        "        output = cnn(b_x)[0]               # cnn output\n",
        "        loss = loss_func(output, b_y)   # cross entropy loss\n",
        "        optimizer.zero_grad()           # clear gradients for this training step\n",
        "        loss.backward()                 # backpropagation, compute gradients\n",
        "        optimizer.step()                # apply gradients\n",
        "\n",
        "        if step % 100 == 0:\n",
        "            test_output, last_layer = cnn(test_x)\n",
        "            pred_y = torch.max(test_output, 1)[1].data.squeeze()\n",
        "            accuracy = (pred_y == test_y).sum().item() / float(test_y.size(0))\n",
        "            print('Epoch: ', epoch, '| train loss: %.4f' % loss.item(), '| test accuracy: %.2f' % accuracy)\n",
        "print(\"Finish\")"
      ],
      "execution_count": 21,
      "outputs": [
        {
          "output_type": "stream",
          "text": [
            "Epoch:  0 | train loss: 2.2979 | test accuracy: 0.15\n",
            "Epoch:  0 | train loss: 0.1940 | test accuracy: 0.90\n",
            "Epoch:  0 | train loss: 0.2049 | test accuracy: 0.93\n",
            "Epoch:  0 | train loss: 0.0865 | test accuracy: 0.94\n",
            "Epoch:  0 | train loss: 0.1369 | test accuracy: 0.95\n",
            "Epoch:  0 | train loss: 0.1812 | test accuracy: 0.97\n",
            "Epoch:  0 | train loss: 0.0066 | test accuracy: 0.97\n",
            "Epoch:  0 | train loss: 0.0207 | test accuracy: 0.97\n",
            "Epoch:  0 | train loss: 0.0605 | test accuracy: 0.97\n",
            "Epoch:  0 | train loss: 0.2027 | test accuracy: 0.97\n",
            "Epoch:  0 | train loss: 0.0322 | test accuracy: 0.97\n",
            "Epoch:  0 | train loss: 0.0734 | test accuracy: 0.97\n",
            "Epoch:  1 | train loss: 0.1088 | test accuracy: 0.98\n",
            "Epoch:  1 | train loss: 0.0560 | test accuracy: 0.97\n",
            "Epoch:  1 | train loss: 0.0243 | test accuracy: 0.97\n",
            "Epoch:  1 | train loss: 0.0049 | test accuracy: 0.98\n",
            "Epoch:  1 | train loss: 0.0063 | test accuracy: 0.98\n",
            "Epoch:  1 | train loss: 0.0482 | test accuracy: 0.98\n",
            "Epoch:  1 | train loss: 0.0118 | test accuracy: 0.98\n",
            "Epoch:  1 | train loss: 0.0195 | test accuracy: 0.98\n",
            "Epoch:  1 | train loss: 0.0073 | test accuracy: 0.98\n",
            "Epoch:  1 | train loss: 0.0040 | test accuracy: 0.98\n",
            "Epoch:  1 | train loss: 0.0111 | test accuracy: 0.98\n",
            "Epoch:  1 | train loss: 0.1011 | test accuracy: 0.98\n",
            "Epoch:  2 | train loss: 0.0141 | test accuracy: 0.98\n",
            "Epoch:  2 | train loss: 0.0239 | test accuracy: 0.99\n",
            "Epoch:  2 | train loss: 0.0104 | test accuracy: 0.98\n",
            "Epoch:  2 | train loss: 0.0302 | test accuracy: 0.98\n",
            "Epoch:  2 | train loss: 0.0170 | test accuracy: 0.98\n",
            "Epoch:  2 | train loss: 0.0158 | test accuracy: 0.99\n",
            "Epoch:  2 | train loss: 0.0488 | test accuracy: 0.99\n",
            "Epoch:  2 | train loss: 0.0142 | test accuracy: 0.98\n",
            "Epoch:  2 | train loss: 0.0308 | test accuracy: 0.98\n",
            "Epoch:  2 | train loss: 0.0063 | test accuracy: 0.99\n",
            "Epoch:  2 | train loss: 0.0497 | test accuracy: 0.99\n",
            "Epoch:  2 | train loss: 0.5037 | test accuracy: 0.99\n",
            "Epoch:  3 | train loss: 0.0023 | test accuracy: 0.98\n",
            "Epoch:  3 | train loss: 0.0220 | test accuracy: 0.99\n",
            "Epoch:  3 | train loss: 0.0048 | test accuracy: 0.98\n",
            "Epoch:  3 | train loss: 0.0154 | test accuracy: 0.99\n",
            "Epoch:  3 | train loss: 0.0671 | test accuracy: 0.98\n",
            "Epoch:  3 | train loss: 0.0501 | test accuracy: 0.99\n",
            "Epoch:  3 | train loss: 0.0021 | test accuracy: 0.99\n",
            "Epoch:  3 | train loss: 0.0039 | test accuracy: 0.98\n",
            "Epoch:  3 | train loss: 0.0154 | test accuracy: 0.99\n",
            "Epoch:  3 | train loss: 0.1524 | test accuracy: 0.99\n",
            "Epoch:  3 | train loss: 0.0298 | test accuracy: 0.98\n",
            "Epoch:  3 | train loss: 0.0801 | test accuracy: 0.99\n",
            "Epoch:  4 | train loss: 0.0170 | test accuracy: 0.98\n",
            "Epoch:  4 | train loss: 0.0483 | test accuracy: 0.99\n",
            "Epoch:  4 | train loss: 0.0040 | test accuracy: 0.99\n",
            "Epoch:  4 | train loss: 0.0123 | test accuracy: 0.98\n",
            "Epoch:  4 | train loss: 0.0020 | test accuracy: 0.99\n",
            "Epoch:  4 | train loss: 0.0334 | test accuracy: 0.98\n",
            "Epoch:  4 | train loss: 0.0035 | test accuracy: 0.99\n",
            "Epoch:  4 | train loss: 0.0036 | test accuracy: 0.99\n",
            "Epoch:  4 | train loss: 0.0111 | test accuracy: 0.98\n",
            "Epoch:  4 | train loss: 0.0122 | test accuracy: 0.98\n",
            "Epoch:  4 | train loss: 0.0057 | test accuracy: 0.99\n",
            "Epoch:  4 | train loss: 0.0042 | test accuracy: 0.99\n",
            "Finish\n"
          ],
          "name": "stdout"
        }
      ]
    },
    {
      "metadata": {
        "id": "EYp9XNmIGupn",
        "colab_type": "code",
        "colab": {
          "base_uri": "https://localhost:8080/",
          "height": 52
        },
        "outputId": "8a946549-b7b3-498b-f3aa-79fb4967bc06"
      },
      "cell_type": "code",
      "source": [
        "# print 10 predictions from test data\n",
        "test_output, _ = cnn(test_x[:10])\n",
        "pred_y = torch.max(test_output, 1)[1].data.cpu().numpy().squeeze()\n",
        "print(pred_y, 'prediction number')\n",
        "print(test_y[:10].cpu().numpy(), 'real number')"
      ],
      "execution_count": 25,
      "outputs": [
        {
          "output_type": "stream",
          "text": [
            "[7 2 1 0 4 1 4 9 5 9] prediction number\n",
            "[7 2 1 0 4 1 4 9 5 9] real number\n"
          ],
          "name": "stdout"
        }
      ]
    },
    {
      "metadata": {
        "id": "Ux7U56KVGupr",
        "colab_type": "code",
        "colab": {}
      },
      "cell_type": "code",
      "source": [
        ""
      ],
      "execution_count": 0,
      "outputs": []
    }
  ]
}