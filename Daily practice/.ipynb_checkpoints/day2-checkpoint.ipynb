{
 "cells": [
  {
   "cell_type": "code",
   "execution_count": 2,
   "metadata": {},
   "outputs": [],
   "source": [
    "import torch\n",
    "from torch.autograd import Variable"
   ]
  },
  {
   "cell_type": "code",
   "execution_count": 4,
   "metadata": {},
   "outputs": [
    {
     "name": "stdout",
     "output_type": "stream",
     "text": [
      "tensor([[3., 6.],\n",
      "        [8., 1.]])\n"
     ]
    }
   ],
   "source": [
    "tensor = torch.FloatTensor([[3,6],[8,1]])\n",
    "print(tensor)"
   ]
  },
  {
   "cell_type": "code",
   "execution_count": 27,
   "metadata": {},
   "outputs": [
    {
     "name": "stdout",
     "output_type": "stream",
     "text": [
      "tensor([[3., 6.],\n",
      "        [8., 1.]], requires_grad=True)\n"
     ]
    }
   ],
   "source": [
    "var = Variable(tensor , requires_grad = True)\n",
    "print(var)"
   ]
  },
  {
   "cell_type": "code",
   "execution_count": 28,
   "metadata": {},
   "outputs": [
    {
     "name": "stdout",
     "output_type": "stream",
     "text": [
      "tensor(27.5000)\n",
      "tensor(27.5000, grad_fn=<MeanBackward1>)\n"
     ]
    }
   ],
   "source": [
    "t_out = torch.mean(tensor*tensor)\n",
    "v_out = torch.mean(var*var)\n",
    "print(t_out)\n",
    "print(v_out)"
   ]
  },
  {
   "cell_type": "code",
   "execution_count": 29,
   "metadata": {},
   "outputs": [
    {
     "name": "stdout",
     "output_type": "stream",
     "text": [
      "tensor([[1.5000, 3.0000],\n",
      "        [4.0000, 0.5000]])\n",
      "tensor([[3., 6.],\n",
      "        [8., 1.]])\n"
     ]
    }
   ],
   "source": [
    "v_out.backward()\n",
    "print(var.grad)\n",
    "#v_out = 1/4*(sum)\n",
    "#var = d(v_out)/d(var)\n",
    "#var = 1/2*(var)\n",
    "print(var.data)"
   ]
  },
  {
   "cell_type": "code",
   "execution_count": 31,
   "metadata": {},
   "outputs": [
    {
     "name": "stdout",
     "output_type": "stream",
     "text": [
      "[[3. 6.]\n",
      " [8. 1.]]\n"
     ]
    }
   ],
   "source": [
    "print(var.data.numpy())"
   ]
  },
  {
   "cell_type": "code",
   "execution_count": null,
   "metadata": {},
   "outputs": [],
   "source": []
  }
 ],
 "metadata": {
  "kernelspec": {
   "display_name": "Python 3",
   "language": "python",
   "name": "python3"
  },
  "language_info": {
   "codemirror_mode": {
    "name": "ipython",
    "version": 3
   },
   "file_extension": ".py",
   "mimetype": "text/x-python",
   "name": "python",
   "nbconvert_exporter": "python",
   "pygments_lexer": "ipython3",
   "version": "3.7.1"
  }
 },
 "nbformat": 4,
 "nbformat_minor": 2
}
