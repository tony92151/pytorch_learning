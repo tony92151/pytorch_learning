{
 "cells": [
  {
   "cell_type": "code",
   "execution_count": 1,
   "metadata": {},
   "outputs": [
    {
     "name": "stdout",
     "output_type": "stream",
     "text": [
      "| ID | GPU | MEM |\n",
      "------------------\n"
     ]
    }
   ],
   "source": [
    "import numpy as np\n",
    "import torch\n",
    "import torch.nn as nn\n",
    "import torch.nn.functional as F\n",
    "import random\n",
    "import os\n",
    "import GPUtil\n",
    "GPUtil.showUtilization()\n",
    "from PIL import Image\n",
    "from torch.utils.data import Dataset, DataLoader\n",
    "import torchvision.transforms as transforms\n",
    "from torch.autograd import Variable\n",
    "import time"
   ]
  },
  {
   "cell_type": "code",
   "execution_count": 2,
   "metadata": {},
   "outputs": [],
   "source": [
    "class SIGNSDataset(Dataset):\n",
    "    \"\"\"\n",
    "    A standard PyTorch definition of Dataset which defines the functions __len__ and __getitem__.\n",
    "    \"\"\"\n",
    "    def __init__(self, data_dir, transform):\n",
    "        \"\"\"\n",
    "        Store the filenames of the jpgs to use. Specifies transforms to apply on images.\n",
    "        Args:\n",
    "            data_dir: (string) directory containing the dataset\n",
    "            transform: (torchvision.transforms) transformation to apply on image\n",
    "        \"\"\"\n",
    "        self.filenames = os.listdir(data_dir)\n",
    "        self.filenames = [os.path.join(data_dir, f) for f in self.filenames if f.endswith('.jpg')]\n",
    "\n",
    "        self.labels = [int(os.path.split(filename)[-1][0]) for filename in self.filenames]\n",
    "        self.transform = transform\n",
    "\n",
    "    def __len__(self):\n",
    "        # return size of dataset\n",
    "        return len(self.filenames)\n",
    "\n",
    "    def __getitem__(self, idx):\n",
    "        \"\"\"\n",
    "        Fetch index idx image and labels from dataset. Perform transforms on image.\n",
    "        Args:\n",
    "            idx: (int) index in [0, 1, ..., size_of_dataset-1]\n",
    "        Returns:\n",
    "            image: (Tensor) transformed image\n",
    "            label: (int) corresponding label of image\n",
    "        \"\"\"\n",
    "        image = Image.open(self.filenames[idx])  # PIL image\n",
    "        image = self.transform(image)\n",
    "        return image, self.labels[idx]"
   ]
  },
  {
   "cell_type": "code",
   "execution_count": 3,
   "metadata": {},
   "outputs": [],
   "source": [
    "train_transformer = transforms.Compose([\n",
    "    transforms.RandomHorizontalFlip(),  # randomly flip image horizontally\n",
    "    transforms.ToTensor()])  # transform it into a torch tensor\n",
    "\n",
    "train_data_path = \"dataset/train_signs/\"\n",
    "traindata = SIGNSDataset(train_data_path, train_transformer)\n",
    "\n",
    "dl = DataLoader(traindata, batch_size=32, shuffle=True,\n",
    "                                        num_workers=4,\n",
    "                                        pin_memory=True)"
   ]
  },
  {
   "cell_type": "code",
   "execution_count": 4,
   "metadata": {},
   "outputs": [],
   "source": [
    "test_transformer = transforms.Compose([\n",
    "    transforms.RandomHorizontalFlip(),  # randomly flip image horizontally\n",
    "    transforms.ToTensor()])  # transform it into a torch tensor\n",
    "\n",
    "test_data_path = \"dataset/test_signs/\"\n",
    "testdata = SIGNSDataset(train_data_path, train_transformer)\n",
    "\n",
    "tl = DataLoader(testdata, batch_size=32, shuffle=False,\n",
    "                                        num_workers=4,\n",
    "                                        pin_memory=True)"
   ]
  },
  {
   "cell_type": "code",
   "execution_count": 5,
   "metadata": {
    "scrolled": true
   },
   "outputs": [
    {
     "name": "stdout",
     "output_type": "stream",
     "text": [
      "torch.Size([3, 64, 64])\n"
     ]
    }
   ],
   "source": [
    "a,b = dl.dataset[0]\n",
    "print(a.shape)"
   ]
  },
  {
   "cell_type": "code",
   "execution_count": 6,
   "metadata": {},
   "outputs": [],
   "source": [
    "class Net(nn.Module):\n",
    "    \"\"\"\n",
    "    This is the standard way to define your own network in PyTorch. You typically choose the components\n",
    "    (e.g. LSTMs, linear layers etc.) of your network in the __init__ function. You then apply these layers\n",
    "    on the input step-by-step in the forward function. You can use torch.nn.functional to apply functions\n",
    "    such as F.relu, F.sigmoid, F.softmax, F.max_pool2d. Be careful to ensure your dimensions are correct after each\n",
    "    step. You are encouraged to have a look at the network in pytorch/nlp/model/net.py to get a better sense of how\n",
    "    you can go about defining your own network.\n",
    "    The documentation for all the various components available o you is here: http://pytorch.org/docs/master/nn.html\n",
    "    \"\"\"\n",
    "\n",
    "    def __init__(self):\n",
    "\n",
    "        super(Net, self).__init__()\n",
    "        self.num_channels = 32\n",
    "        \n",
    "        # each of the convolution layers below have the arguments (input_channels, output_channels, filter_size,\n",
    "        # stride, padding). We also include batch normalisation layers that help stabilise training.\n",
    "        # For more details on how to use these layers, check out the documentation.\n",
    "        self.conv1 = nn.Conv2d(3, self.num_channels, 3, stride=1, padding=1)\n",
    "        self.bn1 = nn.BatchNorm2d(self.num_channels)\n",
    "        self.conv2 = nn.Conv2d(self.num_channels, self.num_channels*2, 3, stride=1, padding=1)\n",
    "        self.bn2 = nn.BatchNorm2d(self.num_channels*2)\n",
    "        self.conv3 = nn.Conv2d(self.num_channels*2, self.num_channels*4, 3, stride=1, padding=1)\n",
    "        self.bn3 = nn.BatchNorm2d(self.num_channels*4)\n",
    "\n",
    "        # 2 fully connected layers to transform the output of the convolution layers to the final output\n",
    "        self.fc1 = nn.Linear(8*8*self.num_channels*4, self.num_channels*4)\n",
    "        self.fcbn1 = nn.BatchNorm1d(self.num_channels*4)\n",
    "        self.fc2 = nn.Linear(self.num_channels*4, 6)       \n",
    "        self.dropout_rate = 0.8\n",
    "\n",
    "    def forward(self, s):\n",
    "\n",
    "        #                                                  -> batch_size x 3 x 64 x 64\n",
    "        # we apply the convolution layers, followed by batch normalisation, maxpool and relu x 3\n",
    "        s = self.bn1(self.conv1(s))                         # batch_size x num_channels x 64 x 64\n",
    "        s = F.relu(F.max_pool2d(s, 2))                      # batch_size x num_channels x 32 x 32\n",
    "        s = self.bn2(self.conv2(s))                         # batch_size x num_channels*2 x 32 x 32\n",
    "        s = F.relu(F.max_pool2d(s, 2))                      # batch_size x num_channels*2 x 16 x 16\n",
    "        s = self.bn3(self.conv3(s))                         # batch_size x num_channels*4 x 16 x 16\n",
    "        s = F.relu(F.max_pool2d(s, 2))                      # batch_size x num_channels*4 x 8 x 8\n",
    "\n",
    "        # flatten the output for each image\n",
    "        s = s.view(-1, 8*8*self.num_channels*4)             # batch_size x 8*8*num_channels*4\n",
    "\n",
    "        # apply 2 fully connected layers with dropout\n",
    "        s = F.dropout(F.relu(self.fcbn1(self.fc1(s))), \n",
    "            p=self.dropout_rate, training=self.training)    # batch_size x self.num_channels*4\n",
    "        s = self.fc2(s)                                     # batch_size x 6\n",
    "\n",
    "        # apply log softmax on each image's output (this is recommended over applying softmax\n",
    "        # since it is numerically more stable)\n",
    "        return F.log_softmax(s, dim=1)"
   ]
  },
  {
   "cell_type": "code",
   "execution_count": 7,
   "metadata": {},
   "outputs": [
    {
     "name": "stdout",
     "output_type": "stream",
     "text": [
      "Net(\n",
      "  (conv1): Conv2d(3, 32, kernel_size=(3, 3), stride=(1, 1), padding=(1, 1))\n",
      "  (bn1): BatchNorm2d(32, eps=1e-05, momentum=0.1, affine=True, track_running_stats=True)\n",
      "  (conv2): Conv2d(32, 64, kernel_size=(3, 3), stride=(1, 1), padding=(1, 1))\n",
      "  (bn2): BatchNorm2d(64, eps=1e-05, momentum=0.1, affine=True, track_running_stats=True)\n",
      "  (conv3): Conv2d(64, 128, kernel_size=(3, 3), stride=(1, 1), padding=(1, 1))\n",
      "  (bn3): BatchNorm2d(128, eps=1e-05, momentum=0.1, affine=True, track_running_stats=True)\n",
      "  (fc1): Linear(in_features=8192, out_features=128, bias=True)\n",
      "  (fcbn1): BatchNorm1d(128, eps=1e-05, momentum=0.1, affine=True, track_running_stats=True)\n",
      "  (fc2): Linear(in_features=128, out_features=6, bias=True)\n",
      ")\n"
     ]
    }
   ],
   "source": [
    "if torch.cuda.is_available():\n",
    "    cnn = Net().cuda()\n",
    "    print(\"Run in GPU\")\n",
    "else:\n",
    "    cnn = Net()\n",
    "print(cnn)"
   ]
  },
  {
   "cell_type": "code",
   "execution_count": 8,
   "metadata": {},
   "outputs": [],
   "source": [
    "optimizer = torch.optim.Adam(cnn.parameters(), lr=0.001)   # optimize all cnn parameters\n",
    "loss_func = nn.CrossEntropyLoss()  "
   ]
  },
  {
   "cell_type": "code",
   "execution_count": 9,
   "metadata": {},
   "outputs": [],
   "source": [
    "def train(epoch):\n",
    "    for i, (train_batch, labels_batch) in enumerate(dl):\n",
    "        train_batch, labels_batch = train_batch, labels_batch\n",
    "        # convert to torch Variables\n",
    "        train_batch, labels_batch = Variable(train_batch), Variable(labels_batch)\n",
    "\n",
    "        # compute model output and loss\n",
    "        output_batch = cnn(train_batch)\n",
    "        loss = loss_func(output_batch, labels_batch)\n",
    "        # clear previous gradients, compute gradients of all variables wrt loss\n",
    "        optimizer.zero_grad()\n",
    "        loss.backward()\n",
    "\n",
    "        # performs updates using calculated gradients\n",
    "        optimizer.step()\n",
    "        if i % 8 == 0:\n",
    "            print('Train Epoch: {} [{}/{} ({:.0f}%)]\\tLoss: {:.6f}'.format(epoch, \n",
    "                    i * len(train_batch), len(dl.dataset),100. * i / len(dl), loss.data.item()))\n",
    "    print(\"Finish\")\n",
    "    GPUtil.showUtilization()"
   ]
  },
  {
   "cell_type": "code",
   "execution_count": 10,
   "metadata": {},
   "outputs": [],
   "source": [
    "def test():\n",
    "    cnn.eval()\n",
    "    test_loss = 0\n",
    "    correct = 0\n",
    "    for data, target in tl:\n",
    "        data, target = Variable(data), Variable(target)\n",
    "        output = cnn(data)\n",
    "        # sum up batch loss\n",
    "        los = loss_func(output, target)\n",
    "        #print(los)\n",
    "        test_loss += los\n",
    "        # get the index of the max log-probability\n",
    "        pred = output.data.max(1, keepdim=True)[1]\n",
    "        correct += pred.eq(target.data.view_as(pred)).cpu().sum()\n",
    "\n",
    "    #print(test_loss)\n",
    "    test_loss /= len(tl)\n",
    "    print('\\nTest set: Average loss: {:.4f}, Accuracy: {}/{} ({:.0f}%)\\n'\n",
    "          .format(test_loss, correct, len(tl.dataset),\n",
    "        100. * correct / len(tl.dataset)))\n",
    "    \n",
    "    \n",
    "    #print(float(test_loss))\n",
    "    global Loss\n",
    "    global Accuracy\n",
    "    #Loss = np.append(Loss,float(test_loss))\n",
    "    #print(Loss)\n",
    "    #Accuracy = np.append(Accuracy,float(100. * correct / len(tl.dataset)))"
   ]
  },
  {
   "cell_type": "code",
   "execution_count": 11,
   "metadata": {},
   "outputs": [
    {
     "name": "stdout",
     "output_type": "stream",
     "text": [
      "Train Epoch: 1 [0/864 (0%)]\tLoss: 1.902371\n",
      "Train Epoch: 1 [256/864 (30%)]\tLoss: 1.487707\n",
      "Train Epoch: 1 [512/864 (59%)]\tLoss: 1.558318\n",
      "Train Epoch: 1 [768/864 (89%)]\tLoss: 1.292510\n",
      "Finish\n",
      "| ID | GPU | MEM |\n",
      "------------------\n",
      "\n",
      "Test set: Average loss: 2.0985, Accuracy: 160/864 (18%)\n",
      "\n",
      "Train Epoch: 2 [0/864 (0%)]\tLoss: 1.998375\n",
      "Train Epoch: 2 [256/864 (30%)]\tLoss: 1.610687\n",
      "Train Epoch: 2 [512/864 (59%)]\tLoss: 1.420069\n",
      "Train Epoch: 2 [768/864 (89%)]\tLoss: 1.545844\n",
      "Finish\n",
      "| ID | GPU | MEM |\n",
      "------------------\n",
      "\n",
      "Test set: Average loss: 1.1183, Accuracy: 469/864 (54%)\n",
      "\n",
      "Train Epoch: 3 [0/864 (0%)]\tLoss: 1.084097\n",
      "Train Epoch: 3 [256/864 (30%)]\tLoss: 0.995580\n",
      "Train Epoch: 3 [512/864 (59%)]\tLoss: 0.798327\n",
      "Train Epoch: 3 [768/864 (89%)]\tLoss: 0.643231\n",
      "Finish\n",
      "| ID | GPU | MEM |\n",
      "------------------\n",
      "\n",
      "Test set: Average loss: 0.6215, Accuracy: 687/864 (79%)\n",
      "\n",
      "Train Epoch: 4 [0/864 (0%)]\tLoss: 0.559471\n",
      "Train Epoch: 4 [256/864 (30%)]\tLoss: 0.448374\n",
      "Train Epoch: 4 [512/864 (59%)]\tLoss: 0.757775\n",
      "Train Epoch: 4 [768/864 (89%)]\tLoss: 0.768452\n",
      "Finish\n",
      "| ID | GPU | MEM |\n",
      "------------------\n",
      "\n",
      "Test set: Average loss: 0.4385, Accuracy: 744/864 (86%)\n",
      "\n",
      "Train Epoch: 5 [0/864 (0%)]\tLoss: 0.478369\n",
      "Train Epoch: 5 [256/864 (30%)]\tLoss: 0.885602\n",
      "Train Epoch: 5 [512/864 (59%)]\tLoss: 0.393175\n",
      "Train Epoch: 5 [768/864 (89%)]\tLoss: 0.438060\n",
      "Finish\n",
      "| ID | GPU | MEM |\n",
      "------------------\n",
      "\n",
      "Test set: Average loss: 0.5406, Accuracy: 685/864 (79%)\n",
      "\n",
      "Train Epoch: 6 [0/864 (0%)]\tLoss: 0.676565\n",
      "Train Epoch: 6 [256/864 (30%)]\tLoss: 0.251982\n",
      "Train Epoch: 6 [512/864 (59%)]\tLoss: 0.447744\n",
      "Train Epoch: 6 [768/864 (89%)]\tLoss: 0.365370\n",
      "Finish\n",
      "| ID | GPU | MEM |\n",
      "------------------\n",
      "\n",
      "Test set: Average loss: 0.2298, Accuracy: 801/864 (92%)\n",
      "\n",
      "Train Epoch: 7 [0/864 (0%)]\tLoss: 0.186718\n",
      "Train Epoch: 7 [256/864 (30%)]\tLoss: 0.276356\n",
      "Train Epoch: 7 [512/864 (59%)]\tLoss: 0.176105\n",
      "Train Epoch: 7 [768/864 (89%)]\tLoss: 0.303837\n",
      "Finish\n",
      "| ID | GPU | MEM |\n",
      "------------------\n",
      "\n",
      "Test set: Average loss: 0.2832, Accuracy: 781/864 (90%)\n",
      "\n",
      "Train Epoch: 8 [0/864 (0%)]\tLoss: 0.137042\n",
      "Train Epoch: 8 [256/864 (30%)]\tLoss: 0.087178\n",
      "Train Epoch: 8 [512/864 (59%)]\tLoss: 0.064740\n",
      "Train Epoch: 8 [768/864 (89%)]\tLoss: 0.215282\n",
      "Finish\n",
      "| ID | GPU | MEM |\n",
      "------------------\n",
      "\n",
      "Test set: Average loss: 0.2747, Accuracy: 787/864 (91%)\n",
      "\n",
      "Train Epoch: 9 [0/864 (0%)]\tLoss: 0.220482\n",
      "Train Epoch: 9 [256/864 (30%)]\tLoss: 0.239208\n",
      "Train Epoch: 9 [512/864 (59%)]\tLoss: 0.346352\n",
      "Train Epoch: 9 [768/864 (89%)]\tLoss: 0.204832\n",
      "Finish\n",
      "| ID | GPU | MEM |\n",
      "------------------\n",
      "\n",
      "Test set: Average loss: 0.1222, Accuracy: 836/864 (96%)\n",
      "\n",
      "Train Epoch: 10 [0/864 (0%)]\tLoss: 0.214143\n",
      "Train Epoch: 10 [256/864 (30%)]\tLoss: 0.040727\n",
      "Train Epoch: 10 [512/864 (59%)]\tLoss: 0.110678\n",
      "Train Epoch: 10 [768/864 (89%)]\tLoss: 0.053054\n",
      "Finish\n",
      "| ID | GPU | MEM |\n",
      "------------------\n",
      "\n",
      "Test set: Average loss: 0.0714, Accuracy: 846/864 (97%)\n",
      "\n",
      "Train Epoch: 11 [0/864 (0%)]\tLoss: 0.027890\n",
      "Train Epoch: 11 [256/864 (30%)]\tLoss: 0.042797\n",
      "Train Epoch: 11 [512/864 (59%)]\tLoss: 0.309485\n",
      "Train Epoch: 11 [768/864 (89%)]\tLoss: 0.007594\n",
      "Finish\n",
      "| ID | GPU | MEM |\n",
      "------------------\n",
      "\n",
      "Test set: Average loss: 0.0943, Accuracy: 843/864 (97%)\n",
      "\n",
      "Train Epoch: 12 [0/864 (0%)]\tLoss: 0.132468\n",
      "Train Epoch: 12 [256/864 (30%)]\tLoss: 0.077066\n",
      "Train Epoch: 12 [512/864 (59%)]\tLoss: 0.219787\n",
      "Train Epoch: 12 [768/864 (89%)]\tLoss: 0.085283\n",
      "Finish\n",
      "| ID | GPU | MEM |\n",
      "------------------\n",
      "\n",
      "Test set: Average loss: 0.0525, Accuracy: 853/864 (98%)\n",
      "\n",
      "Train Epoch: 13 [0/864 (0%)]\tLoss: 0.043064\n",
      "Train Epoch: 13 [256/864 (30%)]\tLoss: 0.015654\n",
      "Train Epoch: 13 [512/864 (59%)]\tLoss: 0.028659\n",
      "Train Epoch: 13 [768/864 (89%)]\tLoss: 0.120002\n",
      "Finish\n",
      "| ID | GPU | MEM |\n",
      "------------------\n",
      "\n",
      "Test set: Average loss: 0.0261, Accuracy: 861/864 (99%)\n",
      "\n",
      "Train Epoch: 14 [0/864 (0%)]\tLoss: 0.017104\n",
      "Train Epoch: 14 [256/864 (30%)]\tLoss: 0.068904\n",
      "Train Epoch: 14 [512/864 (59%)]\tLoss: 0.095356\n",
      "Train Epoch: 14 [768/864 (89%)]\tLoss: 0.003097\n",
      "Finish\n",
      "| ID | GPU | MEM |\n",
      "------------------\n",
      "\n",
      "Test set: Average loss: 0.0202, Accuracy: 859/864 (99%)\n",
      "\n",
      "Train Epoch: 15 [0/864 (0%)]\tLoss: 0.005369\n",
      "Train Epoch: 15 [256/864 (30%)]\tLoss: 0.021892\n",
      "Train Epoch: 15 [512/864 (59%)]\tLoss: 0.374314\n",
      "Train Epoch: 15 [768/864 (89%)]\tLoss: 0.142784\n",
      "Finish\n",
      "| ID | GPU | MEM |\n",
      "------------------\n",
      "\n",
      "Test set: Average loss: 0.4385, Accuracy: 722/864 (83%)\n",
      "\n",
      "Train Epoch: 16 [0/864 (0%)]\tLoss: 0.630366\n",
      "Train Epoch: 16 [256/864 (30%)]\tLoss: 0.111167\n",
      "Train Epoch: 16 [512/864 (59%)]\tLoss: 0.629690\n",
      "Train Epoch: 16 [768/864 (89%)]\tLoss: 0.071107\n",
      "Finish\n",
      "| ID | GPU | MEM |\n",
      "------------------\n",
      "\n",
      "Test set: Average loss: 0.1129, Accuracy: 844/864 (97%)\n",
      "\n",
      "Train Epoch: 17 [0/864 (0%)]\tLoss: 0.113275\n",
      "Train Epoch: 17 [256/864 (30%)]\tLoss: 0.078454\n",
      "Train Epoch: 17 [512/864 (59%)]\tLoss: 0.072954\n",
      "Train Epoch: 17 [768/864 (89%)]\tLoss: 0.095685\n",
      "Finish\n",
      "| ID | GPU | MEM |\n",
      "------------------\n",
      "\n",
      "Test set: Average loss: 0.0502, Accuracy: 848/864 (98%)\n",
      "\n",
      "Train Epoch: 18 [0/864 (0%)]\tLoss: 0.025381\n",
      "Train Epoch: 18 [256/864 (30%)]\tLoss: 0.052202\n",
      "Train Epoch: 18 [512/864 (59%)]\tLoss: 0.049406\n",
      "Train Epoch: 18 [768/864 (89%)]\tLoss: 0.132199\n",
      "Finish\n",
      "| ID | GPU | MEM |\n",
      "------------------\n",
      "\n",
      "Test set: Average loss: 0.0522, Accuracy: 852/864 (98%)\n",
      "\n",
      "Train Epoch: 19 [0/864 (0%)]\tLoss: 0.020259\n",
      "Train Epoch: 19 [256/864 (30%)]\tLoss: 0.014735\n",
      "Train Epoch: 19 [512/864 (59%)]\tLoss: 0.081304\n",
      "Train Epoch: 19 [768/864 (89%)]\tLoss: 0.006228\n",
      "Finish\n",
      "| ID | GPU | MEM |\n",
      "------------------\n",
      "\n",
      "Test set: Average loss: 0.0238, Accuracy: 862/864 (99%)\n",
      "\n",
      "Total cost 219.607721 sec\n"
     ]
    }
   ],
   "source": [
    "for epoch in range(1,20):\n",
    "    if epoch == 1:\n",
    "        ts = time.time()\n",
    "    train(epoch)\n",
    "    test()\n",
    "te = time.time()\n",
    "print(\"Total cost %f sec\" % (te - ts))"
   ]
  },
  {
   "cell_type": "code",
   "execution_count": 12,
   "metadata": {},
   "outputs": [
    {
     "name": "stderr",
     "output_type": "stream",
     "text": [
      "/Users/tonyguo/anaconda3/envs/pytorch/lib/python3.6/site-packages/torch/serialization.py:251: UserWarning: Couldn't retrieve source code for container of type Net. It won't be checked for correctness upon loading.\n",
      "  \"type \" + obj.__name__ + \". It won't be checked \"\n"
     ]
    }
   ],
   "source": [
    "torch.save(cnn, 'cnn_stanford2.pkl')"
   ]
  },
  {
   "cell_type": "code",
   "execution_count": 22,
   "metadata": {},
   "outputs": [],
   "source": [
    "#single image test\n",
    "import matplotlib.pyplot as plt\n",
    "single_transforms = transforms.Compose(\n",
    "        [\n",
    "        transforms.Resize((64,64)),\n",
    "        transforms.RandomHorizontalFlip(),\n",
    "        transforms.ToTensor()\n",
    "        ]\n",
    ")\n",
    "model  = torch.load('cnn_stanford2.pkl').cpu()"
   ]
  },
  {
   "cell_type": "code",
   "execution_count": 23,
   "metadata": {},
   "outputs": [
    {
     "name": "stdout",
     "output_type": "stream",
     "text": [
      "torch.Size([3, 64, 64])\n",
      "torch.Size([1, 3, 64, 64])\n",
      "(3, 64, 64)\n",
      "(64, 64, 3)\n"
     ]
    },
    {
     "data": {
      "image/png": "[encoded data removed]",
      "text/plain": [
       "<Figure size 432x288 with 1 Axes>"
      ]
     },
     "metadata": {
      "needs_background": "light"
     },
     "output_type": "display_data"
    }
   ],
   "source": [
    "img = Image.open(\"image.jpg\")\n",
    "image = single_transforms(img).cpu()\n",
    "imgToShow = image.numpy()\n",
    "print(image.shape)\n",
    "image = image.unsqueeze(0)\n",
    "print(image.shape)\n",
    "\n",
    "print(imgToShow.shape)\n",
    "imgToShow = imgToShow.transpose((1, 2, 0))\n",
    "print(imgToShow.shape)\n",
    "plt.imshow(imgToShow, cmap='gray')\n",
    "plt.show()"
   ]
  },
  {
   "cell_type": "code",
   "execution_count": 24,
   "metadata": {},
   "outputs": [
    {
     "name": "stdout",
     "output_type": "stream",
     "text": [
      "1\n"
     ]
    }
   ],
   "source": [
    "single_out = model(image)\n",
    "#print(single_out)\n",
    "p = torch.max(single_out, 1)[1].data.numpy().squeeze()\n",
    "print(p)"
   ]
  },
  {
   "cell_type": "code",
   "execution_count": 26,
   "metadata": {},
   "outputs": [],
   "source": [
    "#onnx to caffe2 \n",
    "batch_size=1  # 随便一个数\n",
    "x = Variable(torch.randn(batch_size,3,64,64), requires_grad=True).cuda()\n",
    "torch_out = torch.onnx._export(cnn, x, \"onnx/cnn_stanford.onnx\", export_params=True )"
   ]
  },
  {
   "cell_type": "code",
   "execution_count": 27,
   "metadata": {},
   "outputs": [
    {
     "data": {
      "text/plain": [
       "'graph torch-jit-export (\\n  %0[FLOAT, 1x3x64x64]\\n) initializers (\\n  %1[FLOAT, 32x3x3x3]\\n  %2[FLOAT, 32]\\n  %3[FLOAT, 32]\\n  %4[FLOAT, 32]\\n  %5[FLOAT, 32]\\n  %6[FLOAT, 32]\\n  %7[INT64, scalar]\\n  %8[FLOAT, 64x32x3x3]\\n  %9[FLOAT, 64]\\n  %10[FLOAT, 64]\\n  %11[FLOAT, 64]\\n  %12[FLOAT, 64]\\n  %13[FLOAT, 64]\\n  %14[INT64, scalar]\\n  %15[FLOAT, 128x64x3x3]\\n  %16[FLOAT, 128]\\n  %17[FLOAT, 128]\\n  %18[FLOAT, 128]\\n  %19[FLOAT, 128]\\n  %20[FLOAT, 128]\\n  %21[INT64, scalar]\\n  %22[FLOAT, 128x8192]\\n  %23[FLOAT, 128]\\n  %24[FLOAT, 128]\\n  %25[FLOAT, 128]\\n  %26[FLOAT, 128]\\n  %27[FLOAT, 128]\\n  %28[INT64, scalar]\\n  %29[FLOAT, 6x128]\\n  %30[FLOAT, 6]\\n) {\\n  %31 = Conv[dilations = [1, 1], group = 1, kernel_shape = [3, 3], pads = [1, 1, 1, 1], strides = [1, 1]](%0, %1, %2)\\n  %32 = BatchNormalization[epsilon = 9.99999974737875e-06, momentum = 1](%31, %3, %4, %5, %6)\\n  %33 = MaxPool[kernel_shape = [2, 2], pads = [0, 0, 0, 0], strides = [2, 2]](%32)\\n  %34 = Relu(%33)\\n  %35 = Conv[dilations = [1, 1], group = 1, kernel_shape = [3, 3], pads = [1, 1, 1, 1], strides = [1, 1]](%34, %8, %9)\\n  %36 = BatchNormalization[epsilon = 9.99999974737875e-06, momentum = 1](%35, %10, %11, %12, %13)\\n  %37 = MaxPool[kernel_shape = [2, 2], pads = [0, 0, 0, 0], strides = [2, 2]](%36)\\n  %38 = Relu(%37)\\n  %39 = Conv[dilations = [1, 1], group = 1, kernel_shape = [3, 3], pads = [1, 1, 1, 1], strides = [1, 1]](%38, %15, %16)\\n  %40 = BatchNormalization[epsilon = 9.99999974737875e-06, momentum = 1](%39, %17, %18, %19, %20)\\n  %41 = MaxPool[kernel_shape = [2, 2], pads = [0, 0, 0, 0], strides = [2, 2]](%40)\\n  %42 = Relu(%41)\\n  %43 = Constant[value = <Tensor>]()\\n  %44 = Reshape(%42, %43)\\n  %45 = Gemm[alpha = 1, beta = 1, transB = 1](%44, %22, %23)\\n  %46 = Unsqueeze[axes = [2]](%45)\\n  %47 = BatchNormalization[epsilon = 9.99999974737875e-06, momentum = 1](%46, %24, %25, %26, %27)\\n  %48 = Squeeze[axes = [2]](%47)\\n  %49 = Relu(%48)\\n  %50, %51 = Dropout[ratio = 0.800000011920929](%49)\\n  %52 = Gemm[alpha = 1, beta = 1, transB = 1](%50, %29, %30)\\n  %53 = LogSoftmax[axis = 1](%52)\\n  return %53\\n}'"
      ]
     },
     "execution_count": 27,
     "metadata": {},
     "output_type": "execute_result"
    }
   ],
   "source": [
    "import onnx\n",
    "\n",
    "# Load the ONNX model\n",
    "model = onnx.load(\"onnx/cnn_stanford.onnx\")\n",
    "# Check that the IR is well formed\n",
    "onnx.checker.check_model(model)\n",
    "# Print a human readable representation of the graph\n",
    "onnx.helper.printable_graph(model.graph)"
   ]
  },
  {
   "cell_type": "code",
   "execution_count": 34,
   "metadata": {},
   "outputs": [
    {
     "name": "stderr",
     "output_type": "stream",
     "text": [
      "CUDA operators do not support 64-bit doubles, please use arr.astype(np.float32) or np.int32 for ints. Blob: 0 type: float64\n"
     ]
    }
   ],
   "source": [
    "# ...continuing from above\n",
    "import caffe2.python.onnx.backend as backend\n",
    "import numpy as np\n",
    "\n",
    "rep = backend.prepare(model, device=\"CUDA:0\") # or \"CPU\"\n",
    "# For the Caffe2 backend:\n",
    "#     rep.predict_net is the Caffe2 protobuf for the network\n",
    "#     rep.workspace is the Caffe2 workspace for the network\n",
    "#       (see the class caffe2.python.onnx.backend.Workspace)\n",
    "outputs = rep.run(np.random.randn(10, 3, 64, 64).astype(np.float32))\n",
    "# To run networks with more than one input, pass a tuple\n",
    "# rather than a single numpy ndarray.\n",
    "\n",
    "from caffe2.python.onnx.backend import Caffe2Backend as c2\n",
    "init_net, predict_net = c2.onnx_graph_to_caffe2_net(model)\n",
    "with open(\"onnx/init_net.pb\", \"wb\") as f:\n",
    "    f.write(init_net.SerializeToString())\n",
    "with open(\"onnx/predict_net.pb\", \"wb\") as f:\n",
    "    f.write(predict_net.SerializeToString())"
   ]
  },
  {
   "cell_type": "code",
   "execution_count": null,
   "metadata": {},
   "outputs": [],
   "source": []
  }
 ],
 "metadata": {
  "kernelspec": {
   "display_name": "Python 3",
   "language": "python",
   "name": "python3"
  },
  "language_info": {
   "codemirror_mode": {
    "name": "ipython",
    "version": 3
   },
   "file_extension": ".py",
   "mimetype": "text/x-python",
   "name": "python",
   "nbconvert_exporter": "python",
   "pygments_lexer": "ipython3",
   "version": "3.6.8"
  }
 },
 "nbformat": 4,
 "nbformat_minor": 2
}
