{
 "cells": [
  {
   "cell_type": "code",
   "execution_count": null,
   "metadata": {},
   "outputs": [
    {
     "name": "stdout",
     "output_type": "stream",
     "text": [
      "Uninstalling opencv-python-4.0.0.21:\r\n",
      "  Would remove:\r\n",
      "    /home/rospc/pytorch_g/lib/python3.5/site-packages/cv2/*\r\n",
      "    /home/rospc/pytorch_g/lib/python3.5/site-packages/opencv_python-4.0.0.21.dist-info/*\r\n",
      "Proceed (y/n)? "
     ]
    }
   ],
   "source": [
    "#https://discuss.pytorch.org/t/pytorch-trained-model-on-webcam/23928/5\n",
    "import numpy as np  \n",
    "import torch\n",
    "import torch.nn\n",
    "import torchvision \n",
    "from torch.autograd import Variable\n",
    "from torchvision import transforms\n",
    "import PIL \n",
    "#import cv2\n",
    "\n",
    "#This is the Label\n",
    "Labels = { 0 : '0',\n",
    "           1 : '1',\n",
    "           2 : '2',\n",
    "           3 : '3',\n",
    "           4 : '4',\n",
    "           5 : '5',\n",
    "        }"
   ]
  },
  {
   "cell_type": "code",
   "execution_count": null,
   "metadata": {},
   "outputs": [],
   "source": [
    "# Let's preprocess the inputted frame\n",
    "\n",
    "data_transforms = transforms.Compose(\n",
    "    [\n",
    "        transforms.Resize(256),\n",
    "        transforms.CenterCrop(224),\n",
    "        transforms.RandomHorizontalFlip(),\n",
    "        transforms.ToTensor(),\n",
    "        transforms.Normalize([0.485,0.456,0.406],[0.229,0.224,0,0.225])\n",
    "    ]\n",
    ") \n",
    "\n",
    "model  = torch.load(\"cnn_stanford.pkl\") #Load model to CPU\n",
    "model  = model.cuda()\n",
    "model.eval()                #set the device to eval() mode for testing\n"
   ]
  },
  {
   "cell_type": "code",
   "execution_count": null,
   "metadata": {},
   "outputs": [],
   "source": [
    "#Set the Webcam \n",
    "def Webcam_720p():\n",
    "    cap.set(3,1280)\n",
    "    cap.set(4,720)"
   ]
  },
  {
   "cell_type": "code",
   "execution_count": null,
   "metadata": {},
   "outputs": [],
   "source": [
    "def argmax(prediction):\n",
    "    prediction = prediction.cpu()\n",
    "    prediction = prediction.detach().numpy()\n",
    "    top_1 = np.argmax(prediction, axis=1)\n",
    "    score = np.amax(prediction)\n",
    "    score = '{:6f}'.format(score)\n",
    "    prediction = top_1[0]\n",
    "    result = Labels[prediction]\n",
    "\n",
    "    return result,score"
   ]
  },
  {
   "cell_type": "code",
   "execution_count": null,
   "metadata": {},
   "outputs": [],
   "source": [
    "def preprocess(image):\n",
    "    image = PIL.Image.fromarray(image) #Webcam frames are numpy array format\n",
    "                                       #Therefore transform back to PIL image\n",
    "    print(image)                             \n",
    "    image = data_transforms(image)\n",
    "    image = image.float()\n",
    "    #image = Variable(image, requires_autograd=True)\n",
    "    image = image.cuda()\n",
    "    image = image.unsqueeze(0) #I don't know for sure but Resnet-50 model seems to only\n",
    "                               #accpets 4-D Vector Tensor so we need to squeeze another\n",
    "    return image                            #dimension out of our 3-D vector Tensor\n"
   ]
  },
  {
   "cell_type": "code",
   "execution_count": null,
   "metadata": {},
   "outputs": [],
   "source": [
    "img = cv2.imread('image.jpg')\n",
    "\n",
    "fps = 0\n",
    "show_score = 0\n",
    "show_res = 'Nothing'\n",
    "sequence = 0"
   ]
  },
  {
   "cell_type": "code",
   "execution_count": null,
   "metadata": {},
   "outputs": [],
   "source": [
    "while True:\n",
    "    image        = img[100:450,150:570]\n",
    "    image_data   = preprocess(image)\n",
    "    print(image_data)\n",
    "    prediction   = model(image_data)\n",
    "    result,score = argmax(prediction)\n",
    "    if result >= 0.5:\n",
    "        show_res  = result\n",
    "        show_score= score\n",
    "    else:\n",
    "        show_res   = \"Nothing\"\n",
    "        show_score = score\n",
    "        \n",
    "    cv2.putText(image, '%s' %(show_res),(950,250), cv2.FONT_HERSHEY_SIMPLEX, 2, (255,255,255), 3)\n",
    "    cv2.putText(image, '(score = %.5f)' %(show_score), (950,300), cv2.FONT_HERSHEY_SIMPLEX, 1,(255,255,255),2)\n",
    "    cv2.rectangle(image,(400,150),(900,550), (250,0,0), 2)\n",
    "    cv2.imshow(\"SIGN DETECTER\", image)\n",
    "\n",
    "    if cv2.waitKey(1) & 0xFF == ord('q'):\n",
    "        break\n",
    "\n",
    "cap.release()\n",
    "cv2.destroyWindow(\"SIGN DETECTER\")"
   ]
  }
 ],
 "metadata": {
  "kernelspec": {
   "display_name": "Python 3",
   "language": "python",
   "name": "python3"
  },
  "language_info": {
   "codemirror_mode": {
    "name": "ipython",
    "version": 3
   },
   "file_extension": ".py",
   "mimetype": "text/x-python",
   "name": "python",
   "nbconvert_exporter": "python",
   "pygments_lexer": "ipython3",
   "version": "3.5.2"
  }
 },
 "nbformat": 4,
 "nbformat_minor": 2
}
