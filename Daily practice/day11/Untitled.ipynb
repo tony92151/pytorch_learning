{
 "cells": [
  {
   "cell_type": "code",
   "execution_count": 4,
   "metadata": {},
   "outputs": [
    {
     "name": "stdout",
     "output_type": "stream",
     "text": [
      "| ID | GPU | MEM |\n",
      "------------------\n",
      "|  0 |  5% | 16% |\n"
     ]
    }
   ],
   "source": [
    "import numpy as np\n",
    "import torch\n",
    "import torch.nn as nn\n",
    "import torch.nn.functional as F\n",
    "import random\n",
    "import os\n",
    "import GPUtil\n",
    "GPUtil.showUtilization()\n",
    "from PIL import Image\n",
    "from torch.utils.data import Dataset, DataLoader\n",
    "import torchvision.transforms as transforms\n",
    "from torch.autograd import Variable\n",
    "import time"
   ]
  },
  {
   "cell_type": "code",
   "execution_count": 11,
   "metadata": {},
   "outputs": [],
   "source": [
    "class Net(nn.Module):\n",
    "    \"\"\"\n",
    "    This is the standard way to define your own network in PyTorch. You typically choose the components\n",
    "    (e.g. LSTMs, linear layers etc.) of your network in the __init__ function. You then apply these layers\n",
    "    on the input step-by-step in the forward function. You can use torch.nn.functional to apply functions\n",
    "    such as F.relu, F.sigmoid, F.softmax, F.max_pool2d. Be careful to ensure your dimensions are correct after each\n",
    "    step. You are encouraged to have a look at the network in pytorch/nlp/model/net.py to get a better sense of how\n",
    "    you can go about defining your own network.\n",
    "    The documentation for all the various components available o you is here: http://pytorch.org/docs/master/nn.html\n",
    "    \"\"\"\n",
    "\n",
    "    def __init__(self):\n",
    "\n",
    "        super(Net, self).__init__()\n",
    "        self.num_channels = 32\n",
    "        \n",
    "        # each of the convolution layers below have the arguments (input_channels, output_channels, filter_size,\n",
    "        # stride, padding). We also include batch normalisation layers that help stabilise training.\n",
    "        # For more details on how to use these layers, check out the documentation.\n",
    "        self.conv1 = nn.Conv2d(3, self.num_channels, 3, stride=1, padding=1)\n",
    "        self.bn1 = nn.BatchNorm2d(self.num_channels)\n",
    "        self.conv2 = nn.Conv2d(self.num_channels, self.num_channels*2, 3, stride=1, padding=1)\n",
    "        self.bn2 = nn.BatchNorm2d(self.num_channels*2)\n",
    "        self.conv3 = nn.Conv2d(self.num_channels*2, self.num_channels*4, 3, stride=1, padding=1)\n",
    "        self.bn3 = nn.BatchNorm2d(self.num_channels*4)\n",
    "\n",
    "        # 2 fully connected layers to transform the output of the convolution layers to the final output\n",
    "        self.fc1 = nn.Linear(8*8*self.num_channels*4, self.num_channels*4)\n",
    "        self.fcbn1 = nn.BatchNorm1d(self.num_channels*4)\n",
    "        self.fc2 = nn.Linear(self.num_channels*4, 6)       \n",
    "        self.dropout_rate = 0.8\n",
    "\n",
    "    def forward(self, s):\n",
    "\n",
    "        #                                                  -> batch_size x 3 x 64 x 64\n",
    "        # we apply the convolution layers, followed by batch normalisation, maxpool and relu x 3\n",
    "        s = self.bn1(self.conv1(s))                         # batch_size x num_channels x 64 x 64\n",
    "        s = F.relu(F.max_pool2d(s, 2))                      # batch_size x num_channels x 32 x 32\n",
    "        s = self.bn2(self.conv2(s))                         # batch_size x num_channels*2 x 32 x 32\n",
    "        s = F.relu(F.max_pool2d(s, 2))                      # batch_size x num_channels*2 x 16 x 16\n",
    "        s = self.bn3(self.conv3(s))                         # batch_size x num_channels*4 x 16 x 16\n",
    "        s = F.relu(F.max_pool2d(s, 2))                      # batch_size x num_channels*4 x 8 x 8\n",
    "\n",
    "        # flatten the output for each image\n",
    "        s = s.view(-1, 8*8*self.num_channels*4)             # batch_size x 8*8*num_channels*4\n",
    "\n",
    "        # apply 2 fully connected layers with dropout\n",
    "        s = F.dropout(F.relu(self.fcbn1(self.fc1(s))), \n",
    "            p=self.dropout_rate, training=self.training)    # batch_size x self.num_channels*4\n",
    "        s = self.fc2(s)                                     # batch_size x 6\n",
    "\n",
    "        # apply log softmax on each image's output (this is recommended over applying softmax\n",
    "        # since it is numerically more stable)\n",
    "        return F.log_softmax(s, dim=1)"
   ]
  },
  {
   "cell_type": "code",
   "execution_count": 12,
   "metadata": {},
   "outputs": [],
   "source": [
    "model  = torch.load('cnn_stanford.pkl')"
   ]
  },
  {
   "cell_type": "code",
   "execution_count": null,
   "metadata": {},
   "outputs": [],
   "source": []
  }
 ],
 "metadata": {
  "kernelspec": {
   "display_name": "Python 3",
   "language": "python",
   "name": "python3"
  },
  "language_info": {
   "codemirror_mode": {
    "name": "ipython",
    "version": 3
   },
   "file_extension": ".py",
   "mimetype": "text/x-python",
   "name": "python",
   "nbconvert_exporter": "python",
   "pygments_lexer": "ipython3",
   "version": "3.5.2"
  }
 },
 "nbformat": 4,
 "nbformat_minor": 2
}
