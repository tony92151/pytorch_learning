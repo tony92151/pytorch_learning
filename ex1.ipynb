{
 "cells": [
  {
   "cell_type": "code",
   "execution_count": 1,
   "metadata": {},
   "outputs": [],
   "source": [
    "import torch\n",
    "from torch.autograd import Variable\n",
    "from torch.optim import SGD\n",
    "\n",
    "m1 = torch.ones(5, 3)\n",
    "m2 = torch.ones(5, 3)\n",
    "\n",
    "# 記得要將requires_grad設成True\n",
    "a = Variable(m1, requires_grad=True)\n",
    "b = Variable(m2, requires_grad=True)\n",
    "\n",
    "# 初始化優化器，使用SGD這個更新方式來更新a和b\n",
    "optimizer = SGD([a, b], lr=0.1)\n",
    "\n",
    "for _ in range(10):        # 我們示範更新10次\n",
    "    loss = (a + b).sum()   # 假設a + b就是我們的loss\n",
    "\n",
    "    optimizer.zero_grad()\n",
    "    loss.backward()\n",
    "    optimizer.step()       # 更新"
   ]
  },
  {
   "cell_type": "code",
   "execution_count": null,
   "metadata": {},
   "outputs": [],
   "source": []
  }
 ],
 "metadata": {
  "kernelspec": {
   "display_name": "Python 3",
   "language": "python",
   "name": "python3"
  },
  "language_info": {
   "codemirror_mode": {
    "name": "ipython",
    "version": 3
   },
   "file_extension": ".py",
   "mimetype": "text/x-python",
   "name": "python",
   "nbconvert_exporter": "python",
   "pygments_lexer": "ipython3",
   "version": "3.5.2"
  }
 },
 "nbformat": 4,
 "nbformat_minor": 2
}
